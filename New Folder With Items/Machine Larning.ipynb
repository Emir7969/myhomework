{
 "cells": [
  {
   "cell_type": "markdown",
   "id": "6688f2ca-eb64-4910-9064-375afc6f9780",
   "metadata": {},
   "source": [
    "# 3.1"
   ]
  },
  {
   "cell_type": "markdown",
   "id": "2d96b602-6b3b-41ce-90df-4d57034b7028",
   "metadata": {},
   "source": [
    "Logistic Regression identifies the relationships between characteristics such as age, gender, and income and a particular binary result. It is a classifier that is discriminative. Sarunas's FinTech Firm uses logistic regression in it's model.\n",
    "\n",
    "The Sarunas' FinTech firm evaluates loan applications while considering variables of the applicant. After feeding the model with the applicants inputs, the model states whether a loan should be given for that candidate. The project consists of 4 structural parts. The first one is Streamlit. By utilising Streamlit, the user interface of the website has been designed where people can apply for a loan. The usage of FastAPI manages to give a credit score for a given application. A model has been constucted for the determination of credit risk. The output of the model states that whether a credit should be issued for that applicance or not. Postgres is the database where every data is stored in order to run analyses later. The analysis part is conducted by using python, R or C++."
   ]
  },
  {
   "cell_type": "code",
   "execution_count": null,
   "id": "eaf74dce-3f28-4c9f-87d1-0a477fc040c5",
   "metadata": {},
   "outputs": [],
   "source": []
  }
 ],
 "metadata": {
  "kernelspec": {
   "display_name": "Python 3 (ipykernel)",
   "language": "python",
   "name": "python3"
  },
  "language_info": {
   "codemirror_mode": {
    "name": "ipython",
    "version": 3
   },
   "file_extension": ".py",
   "mimetype": "text/x-python",
   "name": "python",
   "nbconvert_exporter": "python",
   "pygments_lexer": "ipython3",
   "version": "3.11.0"
  }
 },
 "nbformat": 4,
 "nbformat_minor": 5
}
