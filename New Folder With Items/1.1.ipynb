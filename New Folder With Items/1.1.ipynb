{
 "cells": [
  {
   "cell_type": "markdown",
   "id": "152fb2a8-4db4-46e3-936a-38cf6aa746ab",
   "metadata": {},
   "source": [
    "## Question 1"
   ]
  },
  {
   "cell_type": "markdown",
   "id": "0a950602-6446-4d4c-8260-ba78dfcf21f0",
   "metadata": {},
   "source": [
    "### 1.1"
   ]
  },
  {
   "cell_type": "code",
   "execution_count": 1,
   "id": "86011ee6-1500-49a3-adaf-7550b0bac5e6",
   "metadata": {},
   "outputs": [
    {
     "name": "stdout",
     "output_type": "stream",
     "text": [
      "\u001b[33mWARNING: Skipping /Users/emirerdal/anaconda3/lib/python3.11/site-packages/nlopt-2.7.1.dist-info due to invalid metadata entry 'name'\u001b[0m\u001b[33m\n",
      "\u001b[0mRequirement already satisfied: fredapi in /Users/emirerdal/anaconda3/lib/python3.11/site-packages (0.5.1)\n",
      "Requirement already satisfied: pandas in /Users/emirerdal/anaconda3/lib/python3.11/site-packages (from fredapi) (2.1.1)\n",
      "Requirement already satisfied: numpy>=1.23.2 in /Users/emirerdal/anaconda3/lib/python3.11/site-packages (from pandas->fredapi) (1.24.4)\n",
      "Requirement already satisfied: python-dateutil>=2.8.2 in /Users/emirerdal/anaconda3/lib/python3.11/site-packages (from pandas->fredapi) (2.8.2)\n",
      "Requirement already satisfied: pytz>=2020.1 in /Users/emirerdal/anaconda3/lib/python3.11/site-packages (from pandas->fredapi) (2023.3.post1)\n",
      "Requirement already satisfied: tzdata>=2022.1 in /Users/emirerdal/anaconda3/lib/python3.11/site-packages (from pandas->fredapi) (2023.3)\n",
      "Requirement already satisfied: six>=1.5 in /Users/emirerdal/anaconda3/lib/python3.11/site-packages (from python-dateutil>=2.8.2->pandas->fredapi) (1.16.0)\n",
      "\u001b[33mWARNING: Skipping /Users/emirerdal/anaconda3/lib/python3.11/site-packages/nlopt-2.7.1.dist-info due to invalid metadata entry 'name'\u001b[0m\u001b[33m\n",
      "\u001b[0m\u001b[33mWARNING: Skipping /Users/emirerdal/anaconda3/lib/python3.11/site-packages/nlopt-2.7.1.dist-info due to invalid metadata entry 'name'\u001b[0m\u001b[33m\n",
      "\u001b[0m\u001b[33mWARNING: Skipping /Users/emirerdal/anaconda3/lib/python3.11/site-packages/nlopt-2.7.1.dist-info due to invalid metadata entry 'name'\u001b[0m\u001b[33m\n",
      "\u001b[0mNote: you may need to restart the kernel to use updated packages.\n"
     ]
    }
   ],
   "source": [
    "pip install fredapi"
   ]
  },
  {
   "cell_type": "code",
   "execution_count": 1,
   "id": "f0b07198-56fd-420e-9db4-1bea307d3ff6",
   "metadata": {},
   "outputs": [],
   "source": [
    "import pandas as pd\n",
    "from fredapi import fred"
   ]
  },
  {
   "cell_type": "code",
   "execution_count": 2,
   "id": "ed77381c-2702-4c99-b4a7-746e5ac79896",
   "metadata": {},
   "outputs": [],
   "source": [
    "import json\n",
    "import requests\n"
   ]
  },
  {
   "cell_type": "code",
   "execution_count": 9,
   "id": "fc48b9b9-d4b8-4293-989c-f2fb132e2499",
   "metadata": {},
   "outputs": [
    {
     "name": "stdout",
     "output_type": "stream",
     "text": [
      "{'hash': '00000000000000000988f74caa73c80f02fb149deb5ff56108f92367225cc795', 'confirmations': 13460, 'size': 25825651, 'height': 813087, 'version': 643997696, 'versionHex': '2662a000', 'merkleroot': '680afef7dc13babaf7816ba5f00e62a15060ccbabbb93b20aac215c02f85112c', 'txcount': 63284, 'nTx': 0, 'num_tx': 63284, 'tx': ['b22b908e1de306d8bb7ffa054e853c3ec172b0453b9292f4ffe55e6ae03da6b7', '88ec926a92264950883cfdbbbd474502e2ffc1a3d75e00f385d6e7c3cf0b8551', 'f3804136e86106ba860b0496f5f46616d9cc517a2676cbca18f1755db3b9a748', '861ba83459330df0c8f22944caf06ee33548df4ffb349a49c5a2b095fe2acf00', '563cc444cfcad38b4534d39bdb8932eddd5431de75e7aa087542e9f8a132d396', '97a391979de0492e3e774664f54408998b1600eb95069d5c8b7daa411d58e681', '1dcd1fe831667ea44322d42d7d697cdb9786dff1181d609ef57def52e0ffecd8', '58d6abf561136383e373ef7844a181de85e658ee109f794f8ddd000418e2fdef', '96b22c5772a47223055946a6ecb7ae349f0b41e811ab061b25df814d0623ade6', '6e76bd195c73d2be5b546e48309dcd1739e6bb9cdd2e6c2f1b3f965954bec1f3', 'be001b0065c648061bafa75ac35ad37db35857d349701d18aca8a7cf77ec3664', '4aec5171bb090955434ebf7b1c629f54016184db5f6e12d82ad498d3f69ed2d3', 'df3abf314a2ab5a95143c76331f25c94d15887fe92f5e69a2fbafa475b7b9bf2', '49374b28c2ef1eb2aa1cd17778fb4fae81d838c9bf0db8357667cb8e43661487', 'eec16a963305f28ad9a0a2761ff01b8f336d83d23d907cb5040fb6760b47bd77', 'ab606add43626f4afa29fba76e4473b41f65d9af3e358bfa1e4fca7995f966ef', '87acea742ac1d834f4e1ae5a6080d24394532b107667ebde23644fd9ec034ab7', 'f32a4343d1e8ae53114e22f595dfcc80f10252f97ca63edb983251b606f6b3c7', 'f2250af0ffe550071fd39e1bbc63b62541a2e64ae3ee51c8ed9803902214ff10', '0c05e9aa410e8b2b71ab4d90d152b0e432e745d6467319563f11215ec6f1f698', 'ff3248e5f61ac1bd90ae6d195e9564eaf5f381173eadf66ab1c27b5600e01ca2', '8eead9fdd52367b7656b07d51e84f458b6dec33d17159c581fe1ddd40802df59', '2771198a18370068b3fbb53019c0e24d5dc2a46bc75cfb354d927760ba682e57', 'ef96d1b954b32a2b94d4793922d1d51c6f1d1d652b10fd6714804c1a0eb085d8', 'aedbab31b4aecba275c3fb54adb93907346ecdc705b545e8bd3fcd6a522343b0', '6306fa2fdf7dfc4d17482008dd38ebb560f239705f2f8e2839f9712619c39e43', 'de8aa30931eda7a040784cbeb60a3db8c71a854e138ab6084f4924af4700a38b', '9755399772fea73909a909d8550c138c6e8cbfe0c6afefcb9e5b3682bb6b0492', 'a39fe1d13981714b8b77ff4ed98261de35e63c4b30c1a17cb66ff014aef7f1a4', '444d86882885fa5b6ce3bcf8262a63675a6ca093cc5a2f1ccb74028a5c2bdb5b', 'aad59ef321c6c29b30d3387510666f19374abf016f0557e0281bf10d89875f84', '3ab48813335ed121a4d649ac3aa4d4126ef0b991d9fa5947c7649406c412a52d', 'e8e743e5057354d49d978fbdd1661137d3d2ede980c8b4bb7d0bdcc178e949eb', '8c20a4e17420befe98321d1dc32feff8ae7a5bdcb9e2d142ef9c281f3346d380', '9acfbced729890f1da136a0e40ab44813343e3cb7034b5789eeb8270d6beefe8', '153f521d91b0bca5d478ef8dcfcb7fa86700264c652d51295dc19fe3b8e7e7ed', '5c598866630f83e75de9c34f94215b6e5514cff7aebd0e67fab2bde758612b5c', 'c40d27770cd4576ce7062ca9ca544640b6e881816b72180791bee4313c8514e5', '7a0abf2fd122ebaa199cbd28ec6503b09b385e6908147c6aee08ff3957605349', '33ba2bc5304d0bf712941a6478e1812f7a75d4f3377d7e0ffb467f1411fc6b8f', '002266f728601f4cad080fcc3cc91a9dd7f8165c0eb35094762b65dc9e2dd608', 'e4ffe7e56f41c1aea222993a195f91082a40d7c6d19df4de3e2bb7a075c8159d', '8e9194e58897f34714897e5d46e921ed929fa255d08fd2982ab288458d5ed439', 'dd8647be67e042d09b323ba32367c40b88f301ee5d861226c12a3ed6168e0cd9', 'ffafe25f19c3911417a038231386d3bd1d66eb1f59031f9000557dbe85a2625b', '9923af84e0160875ee98578041b6c74470291e51c99fd612cc50e55ce0e80b94', '4c6af777a94fd3e68bc6580c635dc8794cf182533d0eba3f67ff5d208aa398b3', 'ccd57382ac165682839729791e58b6534b24adff95051057497991ca2b5af48d', 'd390b3a80555e581e447b196abacddca80b408f99eaae1f5c330317fff91a739', '17a48137c388a55374b4c9a5afe21a3dea9950e410ec3938622319072fe8a09f', 'bcc0747dc902447bea07e9c34d3100f2989c506daf3617cfb7ae47e9e34be1e8', 'f8f36d075a1e101cb509969c32aab8acbdc0e485ec7c767e4bf5cd0a52b65187', 'ce363f1b3ab5771c91b10455ce007b2d177417cb1b76d3444728f2d3c1b7d2a3', 'f01745457cf25558d8353ba119a45e6d9f91184f781ee72584cc05b8e914389f', 'ddf0237cd4675cb37c870e1fe3fb07e34a8243c3ae5acffc5ceb07252a2b3f1e', '9b081dc9b068d8a781632e930ca188c37cf019fb0d0933239cd6a3aa496e1aef', 'e790dc328ba22c2f24c041f177b4e694286bf1c9ec54b00c35434a0aa7cb8ab8', '1fbb57c5d296666145817e20c22c8f5f5eb763f106d874b5c78dc8d3fb9e84ff', '7afc3b6593cf7811bbae04f97ff100e281bbafe6041468fbcc55e52f0bd70ae4', 'c57663c3140db55b404e2be3cd21c3e3560cb8e230f8b5497b5fd60941afdb7d', 'ffcb29daa95ec9b869541741b43aeb2323a73930b40428ca83b48e4e52ac7d39', 'c0aad11142f15c61cb13a1d6dcb9562148c09d9b47c12c1a222731bb29fc03e0', '2974ad939102a9ef0d8fa9b45270e02e3a1a6120c5276423b7b16794e45f8c82', 'a3d2eea8c4d34e3b91f889c4124fe212c705ab36c94730e0cbb87a4e2cddfbab', '3a5c7137b4d80dbf1c04f60393d6f391847e9e85496b97e4e2fff6672d299a6c', '2111067131f3be726a0f2a1138f8478ddeccbdf738de736070eef47c9d4f7b96', 'b843de8c705fd80264ceda4a79f02d4bdffe1c8abdf7a8ab356adf8f4cea3a4a', 'e3c631aa52c9924b724735897f49510715d4b4dd00f030630d8cc9788204f5b9', 'cb9d9523f0fc7f6a673f4c22bcc9b2fa04314c413a58be6b5207343ff88d08fc', '9d2ae1b52358c4c9a7e75ac8cdb558a2e4a559214bef8509e50a90b6a0eb3e66', '63414408e7c0d375ff70a630cf071b1a4d162b4c31ef3242932b22f9b75743ca', 'a9e157ad10aeb009fb2f6e143e32e15610c3c5ae9905881af247ef439cabecfc', '041a2b082e53eb964479e76e8370f7cacb55be20d561207fb20d05451b026639', 'c869b630d26e5c119c549a5b1fff3d3e66cbb1af4f51c5dbe0290d16e94ebeef', '1c8e4483b81832be73af15d943a13a21c48d1195f098706c80e1c421b7fe2c0c', '63c7538cbe45ba7f690f7bc3b4d6498facfaab07083536746224339165ad4309', 'b96b65f84405a68c39760a90ebb61f1371ee45654c1b577c1083bed230acada1', 'eeb0dffb3669ff7ae8d864ee72fc79299dcfe1d8477424454b1d321707b65193', 'c2433e59d2847208a40c55bcba101b4cff4854b117bc8aeb7aaa5a926d27b12f', 'b4f2c50d740020cd4c62598fcc0133ced178cc28f0e50da2b6eedd6588fd9365', '969c4b88ef5619ded1158ca86265345da841dc1ea50d3c104b8b33bc2b2dde19', '06c8f7e5ef933040503dc97cc4438ff2fbb6204563c799820a4b0c508a272ecf', 'a0eee008d7c327732aaf3aca72e5979de7c78019139ba266a2c3aaf991aa025f', 'a7b101f07cbbdaacad4e4ae63c02fa6fa778a4298b380715e2efc4d1edfada28', '529be0aacb44b14ec87ad3080bb2a7bd7613e506dca8a421b4d63e99a6f60582', '9f384f23ab287a4111f3c25246942df291fa3f3ad9f098338c046f70b80df2fb', '14d8a803b3382f82cbf5c1e063a08ecf467bf44863e20660a7a52f1a98b3bc01', '72c71c0ff4d261d18054f5fe47dd2336a097c8c3d25877ad31d6ed3af6752003', '0f336e66aa762fb306c35382c80fd38aaab23f506944d5af62adadaef08bb942', 'e611151d28fec3271d277c9f164545c226da2f9c0acdd4b06af10c49d981ec3f', 'bab3c5208eea54da7ed63197cc784a6bcfc3e7da023186176af3db8fc1f5a482', '35af6c8a63e24759acf61b6ad3e7f2f997e711ac0a3b836d822b9d3022790f9f', 'ba1155bb16976cf16e0316ea98f1033ece67bdeec8f77db522be69c2efc41ba5', '193582c0724934f0be3b7289196ee0e139eb75e8a67e5cd6a07b8cc2cd6df86d', '5cdd74e766569b8fd66ca90592cb3758b620e098601b762115464616b685fbc6', 'e46e854abd63dea5cfcab140e496e75fb89fb783f47ca080c07940f3b6525e9c', '3be006ff0ecaca4c2a867ce737acbe4da839aa5006ef293249a3b64f74519c92', 'fa7971d066d8fced71fae61287ad5b43fde9820fc65d66200a0d8075f81fdb85', 'e9764b4bc20ea16a8ddf01eb30a3a4570cf53b2a2e4e9bbe2d012715cd9c328c', '0f28a32241b8330ed2b1fc43e5c71d7fde70a8089f219ee4a4924542f03da7d4'], 'time': 1696854606, 'mediantime': 1696848822, 'nonce': 4007311889, 'bits': '181043bd', 'difficulty': 67600474076.59335, 'chainwork': '0000000000000000000000000000000000000000014baa67012e75e400fc6b8e', 'previousblockhash': '00000000000000000567128537587ceb136b0f44204d48086f56e9fcabcdc1da', 'nextblockhash': '0000000000000000066da835e20ef95d1972a31e1c4b43e7b00b6cdb7ab1f3e6', 'coinbaseTx': {'txid': 'b22b908e1de306d8bb7ffa054e853c3ec172b0453b9292f4ffe55e6ae03da6b7', 'hash': 'b22b908e1de306d8bb7ffa054e853c3ec172b0453b9292f4ffe55e6ae03da6b7', 'version': 1, 'size': 111, 'locktime': 0, 'vin': [{'coinbase': '031f680c2f7461616c2e636f6d2f2176b3f8faea5b90baa00100', 'txid': '', 'vout': 0, 'scriptSig': {'asm': '', 'hex': ''}, 'sequence': 4294967295}], 'vout': [{'value': 6.25382357, 'n': 0, 'scriptPubKey': {'asm': 'OP_DUP OP_HASH160 522cf9e7626d9bd8729e5a1398ece40dad1b6a2f OP_EQUALVERIFY OP_CHECKSIG', 'hex': '76a914522cf9e7626d9bd8729e5a1398ece40dad1b6a2f88ac', 'reqSigs': 1, 'type': 'pubkeyhash', 'addresses': ['18VWHjMt4ixHddPPbs6righWTs3Sg2QNcn'], 'isTruncated': False}}], 'blockhash': '00000000000000000988f74caa73c80f02fb149deb5ff56108f92367225cc795', 'confirmations': 13460, 'time': 1696854606, 'blocktime': 1696854606, 'blockheight': 813087}, 'totalFees': 0.0038235699999997763, 'miner': 'taal.com', 'pages': {'uri': ['/block/hash/00000000000000000988f74caa73c80f02fb149deb5ff56108f92367225cc795/page/1', '/block/hash/00000000000000000988f74caa73c80f02fb149deb5ff56108f92367225cc795/page/2'], 'size': 50000}}\n",
      "2023-10-09 13:30:06\n"
     ]
    }
   ],
   "source": [
    "#My Block Height Is 813087\n",
    "answer = requests.get(\"https://api.whatsonchain.com/v1/bsv/main/block/height/813087\")\n",
    "my_block = json.loads(answer.text)\n",
    "print(my_block)\n",
    "import datetime\n",
    "timestamp = datetime.datetime.fromtimestamp(my_block[\"time\"])\n",
    "print(timestamp.strftime(\"%Y-%m-%d %H:%M:%S\"))"
   ]
  },
  {
   "cell_type": "code",
   "execution_count": null,
   "id": "a1b72426-9d84-4d3f-886a-c77e93f13e8f",
   "metadata": {},
   "outputs": [],
   "source": [
    "#tx count is how many transactions in this particular block. In this case it is 63284\n",
    "#time is when the block is mined. In this case it's 2023-10-09 13:30:06\n",
    "#Total Fees is the cumulative fees collected by miners in this specific block. It is 0.0038235699999997763 BSV\n",
    "#Confirmation is the times a particular block has been added to the blockchain after the block containing a specific transaction. In our case it is 13460\n",
    "#Miner is the miner who mined this block. It is \"taal.com\" in my block."
   ]
  }
 ],
 "metadata": {
  "kernelspec": {
   "display_name": "Python 3 (ipykernel)",
   "language": "python",
   "name": "python3"
  },
  "language_info": {
   "codemirror_mode": {
    "name": "ipython",
    "version": 3
   },
   "file_extension": ".py",
   "mimetype": "text/x-python",
   "name": "python",
   "nbconvert_exporter": "python",
   "pygments_lexer": "ipython3",
   "version": "3.11.0"
  }
 },
 "nbformat": 4,
 "nbformat_minor": 5
}
