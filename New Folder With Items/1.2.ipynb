{
 "cells": [
  {
   "cell_type": "code",
   "execution_count": 1,
   "id": "0ecf42a1-d150-40df-a8b4-f44290149620",
   "metadata": {},
   "outputs": [
    {
     "ename": "SyntaxError",
     "evalue": "invalid syntax (1489522179.py, line 1)",
     "output_type": "error",
     "traceback": [
      "\u001b[0;36m  Cell \u001b[0;32mIn[1], line 1\u001b[0;36m\u001b[0m\n\u001b[0;31m    <!DOCTYPE html>\u001b[0m\n\u001b[0m    ^\u001b[0m\n\u001b[0;31mSyntaxError\u001b[0m\u001b[0;31m:\u001b[0m invalid syntax\n"
     ]
    }
   ],
   "source": [
    "#Creating a Website\n",
    "<!DOCTYPE html>\n",
    "<html lang=\"en\">\n",
    "  <head>\n",
    "    <title>Wallet</title>\n",
    "\n",
    "    <script \n",
    "        type=\"text/javascript\" \n",
    "        src=\"https://unpkg.com/bsv@1.5.3/bsv.min.js\">\n",
    "    </script>\n",
    "    <script \n",
    "        type=\"text/javascript\" \n",
    "        src=\"https://cdn.rawgit.com/davidshimjs/qrcodejs/gh-pages/qrcode.min.js\">\n",
    "    </script>\n",
    "    <script src=\"https://unpkg.com/axios/dist/axios.min.js\"></script>\n",
    "\n",
    "    <style>\n",
    "      body {\n",
    "        background-color: red;\n",
    "      }\n",
    "\n",
    "      h1 {\n",
    "        color: white; /* You can adjust the text color */\n",
    "      }\n",
    "    </style>\n",
    "  </head>\n",
    "  <body>\n",
    "    <div id=\"block1\">\n",
    "      <h1>Emir</h1>\n",
    "    </div>\n",
    "\n",
    "    <div id=\"block2\">\n",
    "        <h2>Your Address is:</h2> \n",
    "        <p id=\"addressText\"> </p>\n",
    "    </div>\n",
    "    <div id=\"block3\">\n",
    "      <h2>Your QR code:</h2>\n",
    "      <p id=\"qrcode\"></p>\n",
    "    </div>\n",
    "    <div id=\"block4\">\n",
    "      <h2>Balance in Satoshis:</h2>\n",
    "      <p id=\"balance\"></p>\n",
    "    </div>\n",
    "    \n",
    "    <script> \n",
    "      var address = \"1JkgwGy9S8Nyp2RQLSuWmpM3RfVFz3hxFQ\"\n",
    "      \n",
    "      var y = document.querySelector(\"#addressText\");\n",
    "      y.innerHTML = address;\n",
    "      \n",
    "      var addressCode = 'bitcoinsv:' + address;\n",
    "      \n",
    "      new QRCode(document.getElementById(\"qrcode\"), addressCode);\n",
    "      \n",
    "      var config = {\n",
    "        method: 'get',\n",
    "        url: \"https://api.whatsonchain.com/v1/bsv/main/address/\" + address + \"/balance\",    \n",
    "      };\n",
    "    \n",
    "      axios(config)\n",
    "      .then((response) => {\n",
    "        let data = JSON.stringify(response.data);\n",
    "        let p = document.getElementById(\"balance\");\n",
    "        p.innerHTML = data;\n",
    "      })\n",
    "    </script>\n",
    "  </body>\n",
    "</html>\n"
   ]
  },
  {
   "cell_type": "code",
   "execution_count": null,
   "id": "752fef7a-3828-4a34-a511-043109565380",
   "metadata": {},
   "outputs": [],
   "source": []
  }
 ],
 "metadata": {
  "kernelspec": {
   "display_name": "Python 3 (ipykernel)",
   "language": "python",
   "name": "python3"
  },
  "language_info": {
   "codemirror_mode": {
    "name": "ipython",
    "version": 3
   },
   "file_extension": ".py",
   "mimetype": "text/x-python",
   "name": "python",
   "nbconvert_exporter": "python",
   "pygments_lexer": "ipython3",
   "version": "3.11.0"
  }
 },
 "nbformat": 4,
 "nbformat_minor": 5
}
